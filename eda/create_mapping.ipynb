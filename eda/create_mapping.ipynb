{
 "cells": [
  {
   "cell_type": "code",
   "execution_count": 2,
   "id": "3e0e969c",
   "metadata": {},
   "outputs": [],
   "source": [
    "import polars as pl\n",
    "\n",
    "FILE_PATH = \"../csv_files/fma_metadata/raw_genres.csv\""
   ]
  },
  {
   "cell_type": "code",
   "execution_count": 3,
   "id": "c619c39c",
   "metadata": {},
   "outputs": [
    {
     "data": {
      "text/html": [
       "<div><style>\n",
       ".dataframe > thead > tr,\n",
       ".dataframe > tbody > tr {\n",
       "  text-align: right;\n",
       "  white-space: pre-wrap;\n",
       "}\n",
       "</style>\n",
       "<small>shape: (164, 5)</small><table border=\"1\" class=\"dataframe\"><thead><tr><th>genre_id</th><th>genre_color</th><th>genre_handle</th><th>genre_parent_id</th><th>genre_title</th></tr><tr><td>i64</td><td>str</td><td>str</td><td>i64</td><td>str</td></tr></thead><tbody><tr><td>1</td><td>&quot;#006666&quot;</td><td>&quot;Avant-Garde&quot;</td><td>38</td><td>&quot;Avant-Garde&quot;</td></tr><tr><td>2</td><td>&quot;#CC3300&quot;</td><td>&quot;International&quot;</td><td>null</td><td>&quot;International&quot;</td></tr><tr><td>3</td><td>&quot;#000099&quot;</td><td>&quot;Blues&quot;</td><td>null</td><td>&quot;Blues&quot;</td></tr><tr><td>4</td><td>&quot;#990099&quot;</td><td>&quot;Jazz&quot;</td><td>null</td><td>&quot;Jazz&quot;</td></tr><tr><td>5</td><td>&quot;#8A8A65&quot;</td><td>&quot;Classical&quot;</td><td>null</td><td>&quot;Classical&quot;</td></tr><tr><td>&hellip;</td><td>&hellip;</td><td>&hellip;</td><td>&hellip;</td><td>&hellip;</td></tr><tr><td>1032</td><td>&quot;#CC3300&quot;</td><td>&quot;Turkish&quot;</td><td>102</td><td>&quot;Turkish&quot;</td></tr><tr><td>1060</td><td>&quot;#CC3300&quot;</td><td>&quot;tango&quot;</td><td>46</td><td>&quot;Tango&quot;</td></tr><tr><td>1156</td><td>&quot;#CC3300&quot;</td><td>&quot;Fado&quot;</td><td>130</td><td>&quot;Fado&quot;</td></tr><tr><td>1193</td><td>&quot;#D4A017&quot;</td><td>&quot;Christmas&quot;</td><td>763</td><td>&quot;Christmas&quot;</td></tr><tr><td>1235</td><td>&quot;#000000&quot;</td><td>&quot;Instrumental&quot;</td><td>null</td><td>&quot;Instrumental&quot;</td></tr></tbody></table></div>"
      ],
      "text/plain": [
       "shape: (164, 5)\n",
       "┌──────────┬─────────────┬───────────────┬─────────────────┬───────────────┐\n",
       "│ genre_id ┆ genre_color ┆ genre_handle  ┆ genre_parent_id ┆ genre_title   │\n",
       "│ ---      ┆ ---         ┆ ---           ┆ ---             ┆ ---           │\n",
       "│ i64      ┆ str         ┆ str           ┆ i64             ┆ str           │\n",
       "╞══════════╪═════════════╪═══════════════╪═════════════════╪═══════════════╡\n",
       "│ 1        ┆ #006666     ┆ Avant-Garde   ┆ 38              ┆ Avant-Garde   │\n",
       "│ 2        ┆ #CC3300     ┆ International ┆ null            ┆ International │\n",
       "│ 3        ┆ #000099     ┆ Blues         ┆ null            ┆ Blues         │\n",
       "│ 4        ┆ #990099     ┆ Jazz          ┆ null            ┆ Jazz          │\n",
       "│ 5        ┆ #8A8A65     ┆ Classical     ┆ null            ┆ Classical     │\n",
       "│ …        ┆ …           ┆ …             ┆ …               ┆ …             │\n",
       "│ 1032     ┆ #CC3300     ┆ Turkish       ┆ 102             ┆ Turkish       │\n",
       "│ 1060     ┆ #CC3300     ┆ tango         ┆ 46              ┆ Tango         │\n",
       "│ 1156     ┆ #CC3300     ┆ Fado          ┆ 130             ┆ Fado          │\n",
       "│ 1193     ┆ #D4A017     ┆ Christmas     ┆ 763             ┆ Christmas     │\n",
       "│ 1235     ┆ #000000     ┆ Instrumental  ┆ null            ┆ Instrumental  │\n",
       "└──────────┴─────────────┴───────────────┴─────────────────┴───────────────┘"
      ]
     },
     "execution_count": 3,
     "metadata": {},
     "output_type": "execute_result"
    }
   ],
   "source": [
    "mapping_df = pl.read_csv(FILE_PATH)\n",
    "mapping_df"
   ]
  },
  {
   "cell_type": "code",
   "execution_count": null,
   "id": "30a9af9b",
   "metadata": {},
   "outputs": [],
   "source": [
    "genre_mapping = dict(\n",
    "    zip(\n",
    "        mapping_df[\"genre_id\"].to_list(),\n",
    "        mapping_df[\"genre_title\"].to_list()\n",
    "    )\n",
    ")\n",
    "\n",
    "genre_mapping"
   ]
  }
 ],
 "metadata": {
  "kernelspec": {
   "display_name": ".venv",
   "language": "python",
   "name": "python3"
  },
  "language_info": {
   "codemirror_mode": {
    "name": "ipython",
    "version": 3
   },
   "file_extension": ".py",
   "mimetype": "text/x-python",
   "name": "python",
   "nbconvert_exporter": "python",
   "pygments_lexer": "ipython3",
   "version": "3.12.3"
  }
 },
 "nbformat": 4,
 "nbformat_minor": 5
}
