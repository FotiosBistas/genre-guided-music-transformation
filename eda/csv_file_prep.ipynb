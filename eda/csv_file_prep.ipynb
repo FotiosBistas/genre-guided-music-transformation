{
 "cells": [
  {
   "cell_type": "code",
   "id": "initial_id",
   "metadata": {
    "collapsed": true
   },
   "source": [
    "import pandas as pd\n",
    "import numpy as np\n",
    "import matplotlib.pyplot as plt"
   ],
   "outputs": [],
   "execution_count": null
  },
  {
   "metadata": {},
   "cell_type": "code",
   "source": "df = pd.read_csv('csv_files/tracks.csv', low_memory=False)",
   "id": "82646a9da22e8286",
   "outputs": [],
   "execution_count": null
  },
  {
   "metadata": {},
   "cell_type": "code",
   "source": [
    "df.columns = df.iloc[0]\n",
    "df = df[2:]\n",
    "df = df.reset_index(drop=True)\n",
    "df.columns = df.columns.fillna('track_id')"
   ],
   "id": "a4237c404d9fe283",
   "outputs": [],
   "execution_count": null
  },
  {
   "metadata": {},
   "cell_type": "code",
   "source": "df.head()",
   "id": "a6e7d4579e0f253b",
   "outputs": [],
   "execution_count": null
  },
  {
   "metadata": {},
   "cell_type": "code",
   "source": [
    "df = df[df['subset'] == 'small']\n",
    "df"
   ],
   "id": "5e00225991ccfba5",
   "outputs": [],
   "execution_count": null
  },
  {
   "metadata": {},
   "cell_type": "code",
   "source": [
    "def transform_path(val):\n",
    "    val = str(val)\n",
    "    if val.isdigit():\n",
    "        val = val.zfill(6)\n",
    "        val = val[:3] + \"/\" + val + \".mp3\"\n",
    "    return val\n",
    "\n",
    "df['path_to_audio'] = df['track_id'].apply(transform_path)\n",
    "df['path_to_audio'].unique()\n",
    "\n",
    "prob_no_noise = 0.6\n",
    "prob_small_noise = 0.2\n",
    "prob_medium_noise = 0.2\n",
    "\n",
    "noise_ratios = {\n",
    "    'none': 0.0,\n",
    "    'small': 0.01,\n",
    "    'medium': 0.05\n",
    "}\n",
    "\n",
    "def augment_row_with_random_segments(row):\n",
    "    all_rows = []\n",
    "\n",
    "    orig = row.copy()\n",
    "    rand_start = np.random.randint(10, 21)\n",
    "    rand_end = np.random.choice([2, 5, 10])\n",
    "    orig['start'] = rand_start * 16000\n",
    "    orig['end'] = rand_start * 16000 + rand_end * 16000\n",
    "    all_rows.append(orig)\n",
    "\n",
    "    for _ in range(2):\n",
    "        mod = row.copy()\n",
    "        rand_start = np.random.randint(5, 25)\n",
    "        rand_end = np.random.choice([2, 5, 10])\n",
    "        mod['start'] = rand_start * 16000\n",
    "        mod['end'] = rand_start * 16000 + rand_end * 16000\n",
    "        all_rows.append(mod)\n",
    "\n",
    "    return all_rows\n",
    "\n",
    "augmented_rows = df.apply(augment_row_with_random_segments, axis=1).explode().tolist()\n",
    "df = pd.DataFrame([row.to_dict() for row in augmented_rows])\n",
    "\n",
    "def assign_noise_ratio():\n",
    "    choice = np.random.choice(\n",
    "        ['none', 'small', 'medium'],\n",
    "        p=[prob_no_noise, prob_small_noise, prob_medium_noise]\n",
    "    )\n",
    "    return noise_ratios[choice]\n",
    "\n",
    "df['noise_ratio'] = df.apply(lambda _: assign_noise_ratio(), axis=1)"
   ],
   "id": "c4cdd5bfc34edd04",
   "outputs": [],
   "execution_count": null
  },
  {
   "metadata": {},
   "cell_type": "code",
   "source": "df.head(10)",
   "id": "bfb3bd0267cd39ea",
   "outputs": [],
   "execution_count": null
  },
  {
   "metadata": {},
   "cell_type": "code",
   "source": [
    "train_df = df[df['split'] == 'training']\n",
    "val_df = df[df['split'] == 'validation']\n",
    "test_df = df[df['split'] == 'test']"
   ],
   "id": "bf90c7be102256fb",
   "outputs": [],
   "execution_count": null
  },
  {
   "metadata": {},
   "cell_type": "code",
   "source": "train_df['path_to_audio'].unique()",
   "id": "d398769663d8b091",
   "outputs": [],
   "execution_count": null
  },
  {
   "metadata": {},
   "cell_type": "code",
   "source": "val_df",
   "id": "124e6ff26e37e06c",
   "outputs": [],
   "execution_count": null
  },
  {
   "metadata": {},
   "cell_type": "code",
   "source": "test_df",
   "id": "4579704f4fda4e0b",
   "outputs": [],
   "execution_count": null
  },
  {
   "metadata": {},
   "cell_type": "code",
   "source": "train_df.columns",
   "id": "88ce160b0f036d3c",
   "outputs": [],
   "execution_count": null
  },
  {
   "metadata": {},
   "cell_type": "code",
   "source": "train_df['path_to_audio']",
   "id": "14abf9529d35cd0d",
   "outputs": [],
   "execution_count": null
  },
  {
   "metadata": {},
   "cell_type": "code",
   "source": [
    "columns_to_keep = ['track_id', 'path_to_audio', 'genre_top', 'noise_ratio', 'start', 'end']\n",
    "train_df[columns_to_keep]\n",
    "train_df = train_df[columns_to_keep]\n",
    "val_df = val_df[columns_to_keep]\n",
    "test_df = test_df[columns_to_keep]"
   ],
   "id": "6b6057a745085afd",
   "outputs": [],
   "execution_count": null
  },
  {
   "metadata": {},
   "cell_type": "code",
   "source": [
    "train_df.to_csv('csv_files/train.csv', index=False)\n",
    "val_df.to_csv('csv_files/val.csv', index=False)\n",
    "test_df.to_csv('csv_files/test.csv', index=False)"
   ],
   "id": "e0d57695879c1389",
   "outputs": [],
   "execution_count": null
  }
 ],
 "metadata": {
  "kernelspec": {
   "display_name": "Python 3",
   "language": "python",
   "name": "python3"
  },
  "language_info": {
   "codemirror_mode": {
    "name": "ipython",
    "version": 2
   },
   "file_extension": ".py",
   "mimetype": "text/x-python",
   "name": "python",
   "nbconvert_exporter": "python",
   "pygments_lexer": "ipython2",
   "version": "2.7.6"
  }
 },
 "nbformat": 4,
 "nbformat_minor": 5
}
